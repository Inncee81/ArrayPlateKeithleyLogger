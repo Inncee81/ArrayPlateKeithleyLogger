{
 "cells": [
  {
   "cell_type": "code",
   "execution_count": 1,
   "metadata": {},
   "outputs": [],
   "source": [
    "struct Bird\n",
    "    position\n",
    "    velocity\n",
    "end"
   ]
  },
  {
   "cell_type": "code",
   "execution_count": 2,
   "metadata": {},
   "outputs": [
    {
     "data": {
      "text/plain": [
       "fly! (generic function with 1 method)"
      ]
     },
     "execution_count": 2,
     "metadata": {},
     "output_type": "execute_result"
    }
   ],
   "source": [
    "function aim(b::Bird, target::Bird, speed::Real)\n",
    "    if b.x == target.x\n",
    "        direction = zero.(b.v)\n",
    "    else\n",
    "        v = target.x - b.x\n",
    "        direction = v/norm(x)\n",
    "    end\n",
    "    return speed * direction\n",
    "end\n",
    "\n",
    "function flap!(b::Bird, v)\n",
    "    return b.v .+= v\n",
    "end\n",
    "\n",
    "function fly!(b::Bird)\n",
    "    b.x .+= b.v\n",
    "    b.v .= zero.(b.v)\n",
    "end"
   ]
  },
  {
   "cell_type": "code",
   "execution_count": null,
   "metadata": {},
   "outputs": [],
   "source": []
  }
 ],
 "metadata": {
  "kernelspec": {
   "display_name": "Julia 1.5.2",
   "language": "julia",
   "name": "julia-1.5"
  },
  "language_info": {
   "file_extension": ".jl",
   "mimetype": "application/julia",
   "name": "julia",
   "version": "1.5.2"
  }
 },
 "nbformat": 4,
 "nbformat_minor": 4
}
